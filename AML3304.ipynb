{
 "cells": [
  {
   "cell_type": "markdown",
   "metadata": {
    "id": "Tvz4mrZMD_FI"
   },
   "source": [
    "\n",
    "## Objective\n",
    "\n",
    "The objective of this project is to build a language model that generates movie overviews using the TMDB API. We will perform exploratory data analysis (EDA) on the movie overviews and fine-tune a language model for text generation.\n",
    "\n",
    "Group Members:\n",
    "- Britty Bidari (C0861112)\n",
    "- Jaspreet Kaur (C0861116)\n",
    "- Vijay Seelam (C08573219)\n",
    "- Sushant Giri (C0861112)\n",
    "\"\"\""
   ]
  },
  {
   "cell_type": "code",
   "execution_count": 1,
   "metadata": {
    "colab": {
     "base_uri": "https://localhost:8080/"
    },
    "id": "-n1exZ35AXhF",
    "outputId": "06089b66-04f8-4dda-ee3e-55c60770a587"
   },
   "outputs": [
    {
     "name": "stdout",
     "output_type": "stream",
     "text": [
      "Collecting fastai\n",
      "  Obtaining dependency information for fastai from https://files.pythonhosted.org/packages/f8/81/7df1ed81c1004c6705b666652a467822b819411858b21e1c174ceaf6d464/fastai-2.7.18-py3-none-any.whl.metadata\n",
      "  Downloading fastai-2.7.18-py3-none-any.whl.metadata (9.1 kB)\n",
      "Requirement already satisfied: pip in c:\\users\\brittybidari\\anaconda3\\lib\\site-packages (from fastai) (23.2.1)\n",
      "Requirement already satisfied: packaging in c:\\users\\brittybidari\\anaconda3\\lib\\site-packages (from fastai) (23.1)\n",
      "Collecting fastdownload<2,>=0.0.5 (from fastai)\n",
      "  Obtaining dependency information for fastdownload<2,>=0.0.5 from https://files.pythonhosted.org/packages/47/60/ed35253a05a70b63e4f52df1daa39a6a464a3e22b0bd060b77f63e2e2b6a/fastdownload-0.0.7-py3-none-any.whl.metadata\n",
      "  Downloading fastdownload-0.0.7-py3-none-any.whl.metadata (5.5 kB)\n",
      "Collecting fastcore<1.8,>=1.5.29 (from fastai)\n",
      "  Obtaining dependency information for fastcore<1.8,>=1.5.29 from https://files.pythonhosted.org/packages/d7/3a/a0b1c764426622287c9b6547d4ea637c406bc884141814df4a5ebab3ab9b/fastcore-1.7.29-py3-none-any.whl.metadata\n",
      "  Downloading fastcore-1.7.29-py3-none-any.whl.metadata (3.6 kB)\n",
      "Requirement already satisfied: torchvision>=0.11 in c:\\users\\brittybidari\\anaconda3\\lib\\site-packages (from fastai) (0.20.1)\n",
      "Requirement already satisfied: matplotlib in c:\\users\\brittybidari\\anaconda3\\lib\\site-packages (from fastai) (3.7.2)\n",
      "Requirement already satisfied: pandas in c:\\users\\brittybidari\\anaconda3\\lib\\site-packages (from fastai) (2.0.3)\n",
      "Requirement already satisfied: requests in c:\\users\\brittybidari\\anaconda3\\lib\\site-packages (from fastai) (2.31.0)\n",
      "Requirement already satisfied: pyyaml in c:\\users\\brittybidari\\anaconda3\\lib\\site-packages (from fastai) (6.0)\n",
      "Collecting fastprogress>=0.2.4 (from fastai)\n",
      "  Obtaining dependency information for fastprogress>=0.2.4 from https://files.pythonhosted.org/packages/a7/8f/213223fdee199c55db81e2d0c669f30e8285c5be2526c4ed924de39247da/fastprogress-1.0.3-py3-none-any.whl.metadata\n",
      "  Downloading fastprogress-1.0.3-py3-none-any.whl.metadata (5.6 kB)\n",
      "Requirement already satisfied: pillow>=9.0.0 in c:\\users\\brittybidari\\anaconda3\\lib\\site-packages (from fastai) (10.0.1)\n",
      "Requirement already satisfied: scikit-learn in c:\\users\\brittybidari\\anaconda3\\lib\\site-packages (from fastai) (1.3.0)\n",
      "Requirement already satisfied: scipy in c:\\users\\brittybidari\\anaconda3\\lib\\site-packages (from fastai) (1.11.1)\n",
      "Requirement already satisfied: spacy<4 in c:\\users\\brittybidari\\anaconda3\\lib\\site-packages (from fastai) (3.7.6)\n",
      "Requirement already satisfied: torch<2.6,>=1.10 in c:\\users\\brittybidari\\anaconda3\\lib\\site-packages (from fastai) (2.5.1)\n",
      "Requirement already satisfied: spacy-legacy<3.1.0,>=3.0.11 in c:\\users\\brittybidari\\anaconda3\\lib\\site-packages (from spacy<4->fastai) (3.0.12)\n",
      "Requirement already satisfied: spacy-loggers<2.0.0,>=1.0.0 in c:\\users\\brittybidari\\anaconda3\\lib\\site-packages (from spacy<4->fastai) (1.0.5)\n",
      "Requirement already satisfied: murmurhash<1.1.0,>=0.28.0 in c:\\users\\brittybidari\\anaconda3\\lib\\site-packages (from spacy<4->fastai) (1.0.10)\n",
      "Requirement already satisfied: cymem<2.1.0,>=2.0.2 in c:\\users\\brittybidari\\anaconda3\\lib\\site-packages (from spacy<4->fastai) (2.0.8)\n",
      "Requirement already satisfied: preshed<3.1.0,>=3.0.2 in c:\\users\\brittybidari\\anaconda3\\lib\\site-packages (from spacy<4->fastai) (3.0.9)\n",
      "Requirement already satisfied: thinc<8.3.0,>=8.2.2 in c:\\users\\brittybidari\\anaconda3\\lib\\site-packages (from spacy<4->fastai) (8.2.5)\n",
      "Requirement already satisfied: wasabi<1.2.0,>=0.9.1 in c:\\users\\brittybidari\\anaconda3\\lib\\site-packages (from spacy<4->fastai) (1.1.3)\n",
      "Requirement already satisfied: srsly<3.0.0,>=2.4.3 in c:\\users\\brittybidari\\anaconda3\\lib\\site-packages (from spacy<4->fastai) (2.4.8)\n",
      "Requirement already satisfied: catalogue<2.1.0,>=2.0.6 in c:\\users\\brittybidari\\anaconda3\\lib\\site-packages (from spacy<4->fastai) (2.0.10)\n",
      "Requirement already satisfied: weasel<0.5.0,>=0.1.0 in c:\\users\\brittybidari\\anaconda3\\lib\\site-packages (from spacy<4->fastai) (0.4.1)\n",
      "Requirement already satisfied: typer<1.0.0,>=0.3.0 in c:\\users\\brittybidari\\anaconda3\\lib\\site-packages (from spacy<4->fastai) (0.12.5)\n",
      "Requirement already satisfied: tqdm<5.0.0,>=4.38.0 in c:\\users\\brittybidari\\anaconda3\\lib\\site-packages (from spacy<4->fastai) (4.65.0)\n",
      "Requirement already satisfied: pydantic!=1.8,!=1.8.1,<3.0.0,>=1.7.4 in c:\\users\\brittybidari\\anaconda3\\lib\\site-packages (from spacy<4->fastai) (1.10.8)\n",
      "Requirement already satisfied: jinja2 in c:\\users\\brittybidari\\anaconda3\\lib\\site-packages (from spacy<4->fastai) (3.1.2)\n",
      "Requirement already satisfied: setuptools in c:\\users\\brittybidari\\anaconda3\\lib\\site-packages (from spacy<4->fastai) (68.0.0)\n",
      "Requirement already satisfied: langcodes<4.0.0,>=3.2.0 in c:\\users\\brittybidari\\anaconda3\\lib\\site-packages (from spacy<4->fastai) (3.4.0)\n",
      "Requirement already satisfied: numpy>=1.19.0 in c:\\users\\brittybidari\\anaconda3\\lib\\site-packages (from spacy<4->fastai) (2.0.2)\n",
      "Requirement already satisfied: charset-normalizer<4,>=2 in c:\\users\\brittybidari\\anaconda3\\lib\\site-packages (from requests->fastai) (2.0.4)\n",
      "Requirement already satisfied: idna<4,>=2.5 in c:\\users\\brittybidari\\anaconda3\\lib\\site-packages (from requests->fastai) (3.4)\n",
      "Requirement already satisfied: urllib3<3,>=1.21.1 in c:\\users\\brittybidari\\anaconda3\\lib\\site-packages (from requests->fastai) (1.26.16)\n",
      "Requirement already satisfied: certifi>=2017.4.17 in c:\\users\\brittybidari\\anaconda3\\lib\\site-packages (from requests->fastai) (2024.2.2)\n",
      "Requirement already satisfied: filelock in c:\\users\\brittybidari\\anaconda3\\lib\\site-packages (from torch<2.6,>=1.10->fastai) (3.9.0)\n",
      "Requirement already satisfied: typing-extensions>=4.8.0 in c:\\users\\brittybidari\\anaconda3\\lib\\site-packages (from torch<2.6,>=1.10->fastai) (4.11.0)\n",
      "Requirement already satisfied: networkx in c:\\users\\brittybidari\\anaconda3\\lib\\site-packages (from torch<2.6,>=1.10->fastai) (3.1)\n",
      "Requirement already satisfied: fsspec in c:\\users\\brittybidari\\anaconda3\\lib\\site-packages (from torch<2.6,>=1.10->fastai) (2024.10.0)\n",
      "Requirement already satisfied: sympy==1.13.1 in c:\\users\\brittybidari\\anaconda3\\lib\\site-packages (from torch<2.6,>=1.10->fastai) (1.13.1)\n",
      "Requirement already satisfied: mpmath<1.4,>=1.1.0 in c:\\users\\brittybidari\\anaconda3\\lib\\site-packages (from sympy==1.13.1->torch<2.6,>=1.10->fastai) (1.3.0)\n",
      "Requirement already satisfied: contourpy>=1.0.1 in c:\\users\\brittybidari\\anaconda3\\lib\\site-packages (from matplotlib->fastai) (1.0.5)\n",
      "Requirement already satisfied: cycler>=0.10 in c:\\users\\brittybidari\\anaconda3\\lib\\site-packages (from matplotlib->fastai) (0.11.0)\n",
      "Requirement already satisfied: fonttools>=4.22.0 in c:\\users\\brittybidari\\anaconda3\\lib\\site-packages (from matplotlib->fastai) (4.54.1)\n",
      "Requirement already satisfied: kiwisolver>=1.0.1 in c:\\users\\brittybidari\\anaconda3\\lib\\site-packages (from matplotlib->fastai) (1.4.4)\n",
      "Requirement already satisfied: pyparsing<3.1,>=2.3.1 in c:\\users\\brittybidari\\anaconda3\\lib\\site-packages (from matplotlib->fastai) (3.0.9)\n",
      "Requirement already satisfied: python-dateutil>=2.7 in c:\\users\\brittybidari\\anaconda3\\lib\\site-packages (from matplotlib->fastai) (2.8.2)\n",
      "Requirement already satisfied: pytz>=2020.1 in c:\\users\\brittybidari\\anaconda3\\lib\\site-packages (from pandas->fastai) (2023.3.post1)\n",
      "Requirement already satisfied: tzdata>=2022.1 in c:\\users\\brittybidari\\anaconda3\\lib\\site-packages (from pandas->fastai) (2023.3)\n",
      "Requirement already satisfied: joblib>=1.1.1 in c:\\users\\brittybidari\\anaconda3\\lib\\site-packages (from scikit-learn->fastai) (1.2.0)\n",
      "Requirement already satisfied: threadpoolctl>=2.0.0 in c:\\users\\brittybidari\\anaconda3\\lib\\site-packages (from scikit-learn->fastai) (2.2.0)\n",
      "Collecting numpy>=1.19.0 (from spacy<4->fastai)\n",
      "  Obtaining dependency information for numpy>=1.19.0 from https://files.pythonhosted.org/packages/3f/6b/5610004206cf7f8e7ad91c5a85a8c71b2f2f8051a0c0c4d5916b76d6cbb2/numpy-1.26.4-cp311-cp311-win_amd64.whl.metadata\n",
      "  Downloading numpy-1.26.4-cp311-cp311-win_amd64.whl.metadata (61 kB)\n",
      "     ---------------------------------------- 0.0/61.0 kB ? eta -:--:--\n",
      "     ---------------------------------------- 61.0/61.0 kB 1.6 MB/s eta 0:00:00\n",
      "Requirement already satisfied: language-data>=1.2 in c:\\users\\brittybidari\\anaconda3\\lib\\site-packages (from langcodes<4.0.0,>=3.2.0->spacy<4->fastai) (1.2.0)\n",
      "Requirement already satisfied: six>=1.5 in c:\\users\\brittybidari\\anaconda3\\lib\\site-packages (from python-dateutil>=2.7->matplotlib->fastai) (1.16.0)\n",
      "Requirement already satisfied: blis<0.8.0,>=0.7.8 in c:\\users\\brittybidari\\anaconda3\\lib\\site-packages (from thinc<8.3.0,>=8.2.2->spacy<4->fastai) (0.7.11)\n",
      "Requirement already satisfied: confection<1.0.0,>=0.0.1 in c:\\users\\brittybidari\\anaconda3\\lib\\site-packages (from thinc<8.3.0,>=8.2.2->spacy<4->fastai) (0.1.5)\n",
      "Requirement already satisfied: colorama in c:\\users\\brittybidari\\anaconda3\\lib\\site-packages (from tqdm<5.0.0,>=4.38.0->spacy<4->fastai) (0.4.6)\n",
      "Requirement already satisfied: click>=8.0.0 in c:\\users\\brittybidari\\anaconda3\\lib\\site-packages (from typer<1.0.0,>=0.3.0->spacy<4->fastai) (8.0.4)\n",
      "Requirement already satisfied: shellingham>=1.3.0 in c:\\users\\brittybidari\\anaconda3\\lib\\site-packages (from typer<1.0.0,>=0.3.0->spacy<4->fastai) (1.5.4)\n",
      "Requirement already satisfied: rich>=10.11.0 in c:\\users\\brittybidari\\anaconda3\\lib\\site-packages (from typer<1.0.0,>=0.3.0->spacy<4->fastai) (13.7.1)\n",
      "Requirement already satisfied: cloudpathlib<1.0.0,>=0.7.0 in c:\\users\\brittybidari\\anaconda3\\lib\\site-packages (from weasel<0.5.0,>=0.1.0->spacy<4->fastai) (0.19.0)\n",
      "Requirement already satisfied: smart-open<8.0.0,>=5.2.1 in c:\\users\\brittybidari\\anaconda3\\lib\\site-packages (from weasel<0.5.0,>=0.1.0->spacy<4->fastai) (5.2.1)\n",
      "Requirement already satisfied: MarkupSafe>=2.0 in c:\\users\\brittybidari\\anaconda3\\lib\\site-packages (from jinja2->spacy<4->fastai) (2.1.1)\n",
      "Requirement already satisfied: marisa-trie>=0.7.7 in c:\\users\\brittybidari\\anaconda3\\lib\\site-packages (from language-data>=1.2->langcodes<4.0.0,>=3.2.0->spacy<4->fastai) (1.2.0)\n",
      "Requirement already satisfied: markdown-it-py>=2.2.0 in c:\\users\\brittybidari\\anaconda3\\lib\\site-packages (from rich>=10.11.0->typer<1.0.0,>=0.3.0->spacy<4->fastai) (2.2.0)\n",
      "Requirement already satisfied: pygments<3.0.0,>=2.13.0 in c:\\users\\brittybidari\\anaconda3\\lib\\site-packages (from rich>=10.11.0->typer<1.0.0,>=0.3.0->spacy<4->fastai) (2.15.1)\n",
      "Requirement already satisfied: mdurl~=0.1 in c:\\users\\brittybidari\\anaconda3\\lib\\site-packages (from markdown-it-py>=2.2.0->rich>=10.11.0->typer<1.0.0,>=0.3.0->spacy<4->fastai) (0.1.0)\n",
      "Downloading fastai-2.7.18-py3-none-any.whl (234 kB)\n",
      "   ---------------------------------------- 0.0/234.5 kB ? eta -:--:--\n",
      "   -------------------- ------------------- 122.9/234.5 kB 7.0 MB/s eta 0:00:01\n",
      "   ---------------------------------------- 234.5/234.5 kB 4.8 MB/s eta 0:00:00\n",
      "Downloading fastcore-1.7.29-py3-none-any.whl (84 kB)\n",
      "   ---------------------------------------- 0.0/84.2 kB ? eta -:--:--\n",
      "   ---------------------------------------- 84.2/84.2 kB 4.6 MB/s eta 0:00:00\n",
      "Downloading fastdownload-0.0.7-py3-none-any.whl (12 kB)\n",
      "Downloading fastprogress-1.0.3-py3-none-any.whl (12 kB)\n",
      "Downloading numpy-1.26.4-cp311-cp311-win_amd64.whl (15.8 MB)\n",
      "   ---------------------------------------- 0.0/15.8 MB ? eta -:--:--\n",
      "   ---------------------------------------- 0.2/15.8 MB 3.3 MB/s eta 0:00:05\n",
      "    --------------------------------------- 0.3/15.8 MB 3.6 MB/s eta 0:00:05\n",
      "   - -------------------------------------- 0.5/15.8 MB 3.4 MB/s eta 0:00:05\n",
      "   - -------------------------------------- 0.6/15.8 MB 3.4 MB/s eta 0:00:05\n",
      "   - -------------------------------------- 0.8/15.8 MB 3.4 MB/s eta 0:00:05\n",
      "   -- ------------------------------------- 0.9/15.8 MB 3.5 MB/s eta 0:00:05\n",
      "   -- ------------------------------------- 1.1/15.8 MB 3.5 MB/s eta 0:00:05\n",
      "   --- ------------------------------------ 1.3/15.8 MB 3.6 MB/s eta 0:00:05\n",
      "   --- ------------------------------------ 1.5/15.8 MB 3.6 MB/s eta 0:00:05\n",
      "   ---- ----------------------------------- 1.6/15.8 MB 3.6 MB/s eta 0:00:04\n",
      "   ---- ----------------------------------- 1.8/15.8 MB 3.6 MB/s eta 0:00:04\n",
      "   ---- ----------------------------------- 1.9/15.8 MB 3.6 MB/s eta 0:00:04\n",
      "   ----- ---------------------------------- 2.0/15.8 MB 3.4 MB/s eta 0:00:05\n",
      "   ----- ---------------------------------- 2.2/15.8 MB 3.3 MB/s eta 0:00:05\n",
      "   ----- ---------------------------------- 2.4/15.8 MB 3.4 MB/s eta 0:00:05\n",
      "   ------ --------------------------------- 2.5/15.8 MB 3.4 MB/s eta 0:00:04\n",
      "   ------ --------------------------------- 2.7/15.8 MB 3.4 MB/s eta 0:00:04\n",
      "   ------- -------------------------------- 2.9/15.8 MB 3.4 MB/s eta 0:00:04\n",
      "   ------- -------------------------------- 3.1/15.8 MB 3.4 MB/s eta 0:00:04\n",
      "   -------- ------------------------------- 3.3/15.8 MB 3.5 MB/s eta 0:00:04\n",
      "   -------- ------------------------------- 3.4/15.8 MB 3.5 MB/s eta 0:00:04\n",
      "   --------- ------------------------------ 3.6/15.8 MB 3.4 MB/s eta 0:00:04\n",
      "   --------- ------------------------------ 3.7/15.8 MB 3.5 MB/s eta 0:00:04\n",
      "   --------- ------------------------------ 3.9/15.8 MB 3.4 MB/s eta 0:00:04\n",
      "   ---------- ----------------------------- 4.1/15.8 MB 3.5 MB/s eta 0:00:04\n",
      "   ---------- ----------------------------- 4.2/15.8 MB 3.5 MB/s eta 0:00:04\n",
      "   ----------- ---------------------------- 4.4/15.8 MB 3.5 MB/s eta 0:00:04\n",
      "   ----------- ---------------------------- 4.6/15.8 MB 3.5 MB/s eta 0:00:04\n",
      "   ------------ --------------------------- 4.8/15.8 MB 3.5 MB/s eta 0:00:04\n",
      "   ------------ --------------------------- 4.9/15.8 MB 3.5 MB/s eta 0:00:04\n",
      "   ------------ --------------------------- 5.1/15.8 MB 3.5 MB/s eta 0:00:04\n",
      "   ------------- -------------------------- 5.3/15.8 MB 3.5 MB/s eta 0:00:03\n",
      "   ------------- -------------------------- 5.5/15.8 MB 3.5 MB/s eta 0:00:03\n",
      "   -------------- ------------------------- 5.6/15.8 MB 3.5 MB/s eta 0:00:03\n",
      "   -------------- ------------------------- 5.8/15.8 MB 3.5 MB/s eta 0:00:03\n",
      "   --------------- ------------------------ 6.0/15.8 MB 3.5 MB/s eta 0:00:03\n",
      "   --------------- ------------------------ 6.2/15.8 MB 3.6 MB/s eta 0:00:03\n",
      "   ---------------- ----------------------- 6.3/15.8 MB 3.6 MB/s eta 0:00:03\n",
      "   ---------------- ----------------------- 6.5/15.8 MB 3.6 MB/s eta 0:00:03\n",
      "   ---------------- ----------------------- 6.7/15.8 MB 3.6 MB/s eta 0:00:03\n",
      "   ----------------- ---------------------- 6.9/15.8 MB 3.6 MB/s eta 0:00:03\n",
      "   ----------------- ---------------------- 7.1/15.8 MB 3.6 MB/s eta 0:00:03\n",
      "   ------------------ --------------------- 7.2/15.8 MB 3.6 MB/s eta 0:00:03\n",
      "   ------------------ --------------------- 7.4/15.8 MB 3.6 MB/s eta 0:00:03\n",
      "   ------------------- -------------------- 7.6/15.8 MB 3.6 MB/s eta 0:00:03\n",
      "   ------------------- -------------------- 7.8/15.8 MB 3.6 MB/s eta 0:00:03\n",
      "   -------------------- ------------------- 7.9/15.8 MB 3.6 MB/s eta 0:00:03\n",
      "   -------------------- ------------------- 8.1/15.8 MB 3.6 MB/s eta 0:00:03\n",
      "   --------------------- ------------------ 8.3/15.8 MB 3.6 MB/s eta 0:00:03\n",
      "   --------------------- ------------------ 8.5/15.8 MB 3.6 MB/s eta 0:00:03\n",
      "   --------------------- ------------------ 8.7/15.8 MB 3.6 MB/s eta 0:00:02\n",
      "   ---------------------- ----------------- 8.8/15.8 MB 3.6 MB/s eta 0:00:02\n",
      "   ---------------------- ----------------- 9.0/15.8 MB 3.6 MB/s eta 0:00:02\n",
      "   ----------------------- ---------------- 9.2/15.8 MB 3.6 MB/s eta 0:00:02\n",
      "   ----------------------- ---------------- 9.4/15.8 MB 3.6 MB/s eta 0:00:02\n",
      "   ------------------------ --------------- 9.6/15.8 MB 3.6 MB/s eta 0:00:02\n",
      "   ------------------------ --------------- 9.7/15.8 MB 3.6 MB/s eta 0:00:02\n",
      "   ------------------------- -------------- 9.9/15.8 MB 3.6 MB/s eta 0:00:02\n",
      "   ------------------------- -------------- 10.1/15.8 MB 3.6 MB/s eta 0:00:02\n",
      "   ------------------------- -------------- 10.3/15.8 MB 3.6 MB/s eta 0:00:02\n",
      "   -------------------------- ------------- 10.4/15.8 MB 3.6 MB/s eta 0:00:02\n",
      "   -------------------------- ------------- 10.5/15.8 MB 3.6 MB/s eta 0:00:02\n",
      "   --------------------------- ------------ 10.7/15.8 MB 3.6 MB/s eta 0:00:02\n",
      "   --------------------------- ------------ 10.9/15.8 MB 3.6 MB/s eta 0:00:02\n",
      "   --------------------------- ------------ 11.0/15.8 MB 3.7 MB/s eta 0:00:02\n",
      "   ---------------------------- ----------- 11.2/15.8 MB 3.6 MB/s eta 0:00:02\n",
      "   ---------------------------- ----------- 11.4/15.8 MB 3.7 MB/s eta 0:00:02\n",
      "   ----------------------------- ---------- 11.5/15.8 MB 3.6 MB/s eta 0:00:02\n",
      "   ----------------------------- ---------- 11.7/15.8 MB 3.7 MB/s eta 0:00:02\n",
      "   ----------------------------- ---------- 11.8/15.8 MB 3.7 MB/s eta 0:00:02\n",
      "   ------------------------------ --------- 12.0/15.8 MB 3.7 MB/s eta 0:00:02\n",
      "   ------------------------------ --------- 12.2/15.8 MB 3.7 MB/s eta 0:00:01\n",
      "   ------------------------------- -------- 12.3/15.8 MB 3.7 MB/s eta 0:00:01\n",
      "   ------------------------------- -------- 12.5/15.8 MB 3.7 MB/s eta 0:00:01\n",
      "   -------------------------------- ------- 12.7/15.8 MB 3.7 MB/s eta 0:00:01\n",
      "   -------------------------------- ------- 12.9/15.8 MB 3.7 MB/s eta 0:00:01\n",
      "   --------------------------------- ------ 13.1/15.8 MB 3.7 MB/s eta 0:00:01\n",
      "   --------------------------------- ------ 13.2/15.8 MB 3.7 MB/s eta 0:00:01\n",
      "   --------------------------------- ------ 13.4/15.8 MB 3.7 MB/s eta 0:00:01\n",
      "   ---------------------------------- ----- 13.6/15.8 MB 3.7 MB/s eta 0:00:01\n",
      "   ---------------------------------- ----- 13.8/15.8 MB 3.7 MB/s eta 0:00:01\n",
      "   ----------------------------------- ---- 13.9/15.8 MB 3.7 MB/s eta 0:00:01\n",
      "   ----------------------------------- ---- 14.1/15.8 MB 3.7 MB/s eta 0:00:01\n",
      "   ------------------------------------ --- 14.3/15.8 MB 3.7 MB/s eta 0:00:01\n",
      "   ------------------------------------ --- 14.4/15.8 MB 3.7 MB/s eta 0:00:01\n",
      "   ------------------------------------- -- 14.6/15.8 MB 3.7 MB/s eta 0:00:01\n",
      "   ------------------------------------- -- 14.8/15.8 MB 3.7 MB/s eta 0:00:01\n",
      "   ------------------------------------- -- 15.0/15.8 MB 3.7 MB/s eta 0:00:01\n",
      "   -------------------------------------- - 15.2/15.8 MB 3.7 MB/s eta 0:00:01\n",
      "   -------------------------------------- - 15.3/15.8 MB 3.7 MB/s eta 0:00:01\n",
      "   ---------------------------------------  15.5/15.8 MB 3.7 MB/s eta 0:00:01\n",
      "   ---------------------------------------  15.7/15.8 MB 3.7 MB/s eta 0:00:01\n",
      "   ---------------------------------------  15.8/15.8 MB 3.7 MB/s eta 0:00:01\n",
      "   ---------------------------------------- 15.8/15.8 MB 3.7 MB/s eta 0:00:00\n",
      "Installing collected packages: numpy, fastprogress, fastcore, fastdownload, fastai\n",
      "  Attempting uninstall: numpy\n",
      "    Found existing installation: numpy 2.0.2\n",
      "    Uninstalling numpy-2.0.2:\n",
      "      Successfully uninstalled numpy-2.0.2\n"
     ]
    },
    {
     "name": "stderr",
     "output_type": "stream",
     "text": [
      "ERROR: Could not install packages due to an OSError: [WinError 5] Access is denied: 'C:\\\\Users\\\\BrittyBidari\\\\anaconda3\\\\Lib\\\\site-packages\\\\~umpy.libs\\\\libscipy_openblas64_-caad452230ae4ddb57899b8b3a33c55c.dll'\n",
      "Consider using the `--user` option or check the permissions.\n",
      "\n"
     ]
    },
    {
     "name": "stdout",
     "output_type": "stream",
     "text": [
      "Collecting tmdbv3api\n",
      "  Obtaining dependency information for tmdbv3api from https://files.pythonhosted.org/packages/35/fb/9d575292bb7794a7a85bcdbf6c09928aae5ca2ae9f684f7fbbd902e281c4/tmdbv3api-1.9.0-py3-none-any.whl.metadata\n",
      "  Downloading tmdbv3api-1.9.0-py3-none-any.whl.metadata (8.0 kB)\n",
      "Requirement already satisfied: requests in c:\\users\\brittybidari\\anaconda3\\lib\\site-packages (from tmdbv3api) (2.31.0)\n",
      "Requirement already satisfied: charset-normalizer<4,>=2 in c:\\users\\brittybidari\\anaconda3\\lib\\site-packages (from requests->tmdbv3api) (2.0.4)\n",
      "Requirement already satisfied: idna<4,>=2.5 in c:\\users\\brittybidari\\anaconda3\\lib\\site-packages (from requests->tmdbv3api) (3.4)\n",
      "Requirement already satisfied: urllib3<3,>=1.21.1 in c:\\users\\brittybidari\\anaconda3\\lib\\site-packages (from requests->tmdbv3api) (1.26.16)\n",
      "Requirement already satisfied: certifi>=2017.4.17 in c:\\users\\brittybidari\\anaconda3\\lib\\site-packages (from requests->tmdbv3api) (2024.2.2)\n",
      "Downloading tmdbv3api-1.9.0-py3-none-any.whl (25 kB)\n",
      "Installing collected packages: tmdbv3api\n",
      "Successfully installed tmdbv3api-1.9.0\n"
     ]
    }
   ],
   "source": [
    "# Step 1: Install required libraries\n",
    "!pip install fastai\n",
    "!pip install tmdbv3api"
   ]
  },
  {
   "cell_type": "code",
   "execution_count": 2,
   "metadata": {
    "colab": {
     "base_uri": "https://localhost:8080/"
    },
    "id": "cYQ7bGdzDH6H",
    "outputId": "d1945606-2f10-47d1-98ba-8745cee57719"
   },
   "outputs": [
    {
     "name": "stdout",
     "output_type": "stream",
     "text": [
      "Collecting wordcloud\n",
      "  Obtaining dependency information for wordcloud from https://files.pythonhosted.org/packages/00/09/abb305dce85911b8fba382926cfc57f2f257729e25937fdcc63f3a1a67f9/wordcloud-1.9.4-cp311-cp311-win_amd64.whl.metadata\n",
      "  Downloading wordcloud-1.9.4-cp311-cp311-win_amd64.whl.metadata (3.5 kB)\n",
      "Requirement already satisfied: numpy>=1.6.1 in c:\\users\\brittybidari\\anaconda3\\lib\\site-packages (from wordcloud) (1.26.4)\n",
      "Requirement already satisfied: pillow in c:\\users\\brittybidari\\anaconda3\\lib\\site-packages (from wordcloud) (10.0.1)\n",
      "Requirement already satisfied: matplotlib in c:\\users\\brittybidari\\anaconda3\\lib\\site-packages (from wordcloud) (3.7.2)\n",
      "Requirement already satisfied: contourpy>=1.0.1 in c:\\users\\brittybidari\\anaconda3\\lib\\site-packages (from matplotlib->wordcloud) (1.0.5)\n",
      "Requirement already satisfied: cycler>=0.10 in c:\\users\\brittybidari\\anaconda3\\lib\\site-packages (from matplotlib->wordcloud) (0.11.0)\n",
      "Requirement already satisfied: fonttools>=4.22.0 in c:\\users\\brittybidari\\anaconda3\\lib\\site-packages (from matplotlib->wordcloud) (4.54.1)\n",
      "Requirement already satisfied: kiwisolver>=1.0.1 in c:\\users\\brittybidari\\anaconda3\\lib\\site-packages (from matplotlib->wordcloud) (1.4.4)\n",
      "Requirement already satisfied: packaging>=20.0 in c:\\users\\brittybidari\\anaconda3\\lib\\site-packages (from matplotlib->wordcloud) (23.1)\n",
      "Requirement already satisfied: pyparsing<3.1,>=2.3.1 in c:\\users\\brittybidari\\anaconda3\\lib\\site-packages (from matplotlib->wordcloud) (3.0.9)\n",
      "Requirement already satisfied: python-dateutil>=2.7 in c:\\users\\brittybidari\\anaconda3\\lib\\site-packages (from matplotlib->wordcloud) (2.8.2)\n",
      "Requirement already satisfied: six>=1.5 in c:\\users\\brittybidari\\anaconda3\\lib\\site-packages (from python-dateutil>=2.7->matplotlib->wordcloud) (1.16.0)\n",
      "Downloading wordcloud-1.9.4-cp311-cp311-win_amd64.whl (299 kB)\n",
      "   ---------------------------------------- 0.0/299.9 kB ? eta -:--:--\n",
      "   ---- ----------------------------------- 30.7/299.9 kB 1.3 MB/s eta 0:00:01\n",
      "   --------------------- ------------------ 163.8/299.9 kB 2.0 MB/s eta 0:00:01\n",
      "   ---------------------------------------- 299.9/299.9 kB 2.7 MB/s eta 0:00:00\n",
      "Installing collected packages: wordcloud\n",
      "Successfully installed wordcloud-1.9.4\n"
     ]
    }
   ],
   "source": [
    "!pip install wordcloud"
   ]
  },
  {
   "cell_type": "code",
   "execution_count": 3,
   "metadata": {
    "id": "mlJofmeIAZ-d"
   },
   "outputs": [
    {
     "ename": "ModuleNotFoundError",
     "evalue": "No module named 'fastai'",
     "output_type": "error",
     "traceback": [
      "\u001b[1;31m---------------------------------------------------------------------------\u001b[0m",
      "\u001b[1;31mModuleNotFoundError\u001b[0m                       Traceback (most recent call last)",
      "Cell \u001b[1;32mIn[3], line 3\u001b[0m\n\u001b[0;32m      1\u001b[0m \u001b[38;5;66;03m# Step 2: Import necessary modules\u001b[39;00m\n\u001b[0;32m      2\u001b[0m \u001b[38;5;28;01mimport\u001b[39;00m \u001b[38;5;21;01mnumpy\u001b[39;00m \u001b[38;5;28;01mas\u001b[39;00m \u001b[38;5;21;01mnp\u001b[39;00m\n\u001b[1;32m----> 3\u001b[0m \u001b[38;5;28;01mfrom\u001b[39;00m \u001b[38;5;21;01mfastai\u001b[39;00m\u001b[38;5;21;01m.\u001b[39;00m\u001b[38;5;21;01mtext\u001b[39;00m\u001b[38;5;21;01m.\u001b[39;00m\u001b[38;5;21;01mall\u001b[39;00m \u001b[38;5;28;01mimport\u001b[39;00m \u001b[38;5;241m*\u001b[39m\n",
      "\u001b[1;31mModuleNotFoundError\u001b[0m: No module named 'fastai'"
     ]
    }
   ],
   "source": [
    "# Step 2: Import necessary modules\n",
    "import numpy as np\n",
    "from fastai.text.all import *"
   ]
  },
  {
   "cell_type": "code",
   "execution_count": null,
   "metadata": {
    "id": "JFesys_pCorL"
   },
   "outputs": [],
   "source": [
    "import matplotlib.pyplot as plt\n",
    "from wordcloud import WordCloud"
   ]
  },
  {
   "cell_type": "code",
   "execution_count": null,
   "metadata": {
    "id": "Qlcphj60AfCx"
   },
   "outputs": [],
   "source": [
    "# Step 3: Setup your data\n",
    "from tmdbv3api import TMDb\n",
    "tmdb = TMDb()\n",
    "tmdb.api_key = 'db707386d4a7bde24b75391363fb26c6'"
   ]
  },
  {
   "cell_type": "code",
   "execution_count": null,
   "metadata": {
    "id": "s0HT-Cs3Al1S"
   },
   "outputs": [],
   "source": [
    "# Fetch movie overviews from TMDB API\n",
    "from tmdbv3api import Movie\n",
    "movie = Movie()\n",
    "\n",
    "movie_list = movie.top_rated()\n",
    "movie_overviews = [m.overview for m in movie_list]"
   ]
  },
  {
   "cell_type": "code",
   "execution_count": null,
   "metadata": {
    "id": "bUtiHiJzAorp"
   },
   "outputs": [],
   "source": [
    "# Save movie overviews to a text file\n",
    "with open('/content/movie_overviews.txt', 'w') as f:\n",
    "    for overview in movie_overviews:\n",
    "        f.write(overview + '\\n')\n"
   ]
  },
  {
   "cell_type": "code",
   "execution_count": null,
   "metadata": {
    "colab": {
     "base_uri": "https://localhost:8080/",
     "height": 17
    },
    "id": "4bVZBF2dArtZ",
    "outputId": "851006ff-c623-4345-8541-8fdfaa7a6145"
   },
   "outputs": [],
   "source": [
    "# Step 4: Prepare your data\n",
    "path = Path('/content')\n",
    "dls_lm = TextDataLoaders.from_folder(path, is_lm=True, valid_pct=0.1)\n"
   ]
  },
  {
   "cell_type": "code",
   "execution_count": null,
   "metadata": {
    "colab": {
     "base_uri": "https://localhost:8080/",
     "height": 480
    },
    "id": "iv8dsXCUDbAQ",
    "outputId": "3bb0f554-c4a3-4d36-f501-42be2daf9d06"
   },
   "outputs": [],
   "source": [
    "# Basic EDA\n",
    "num_movies = len(movie_overviews)\n",
    "avg_length = np.mean([len(overview.split()) for overview in movie_overviews])\n",
    "\n",
    "print(f\"Total number of movie overviews: {num_movies}\")\n",
    "print(f\"Average length of movie overviews: {avg_length:.2f} words\")\n",
    "\n",
    "# Create a WordCloud\n",
    "wordcloud = WordCloud(width=800, height=400, background_color='white').generate(' '.join(movie_overviews))\n",
    "\n",
    "# Plot the WordCloud\n",
    "plt.figure(figsize=(10, 6))\n",
    "plt.imshow(wordcloud, interpolation='bilinear')\n",
    "plt.axis('off')\n",
    "plt.title('WordCloud of Movie Overviews')\n",
    "plt.show()"
   ]
  },
  {
   "cell_type": "code",
   "execution_count": null,
   "metadata": {
    "colab": {
     "base_uri": "https://localhost:8080/",
     "height": 426
    },
    "id": "WZcNyZEnAtg8",
    "outputId": "42e48458-763f-4f5e-851d-9d48b0d9cd0a"
   },
   "outputs": [],
   "source": [
    "# Step 5: Fine-tune the language model\n",
    "learn = language_model_learner(dls_lm, AWD_LSTM, drop_mult=0.3, metrics=[accuracy, Perplexity()])\n",
    "learn.fine_tune(4, 1e-2)\n"
   ]
  },
  {
   "cell_type": "code",
   "execution_count": null,
   "metadata": {
    "colab": {
     "base_uri": "https://localhost:8080/",
     "height": 54
    },
    "id": "VLNoroTlAwgN",
    "outputId": "f7f23224-c8f0-4389-8e4e-4bad534551ef"
   },
   "outputs": [],
   "source": [
    "# Step 6: Generate text using the trained model\n",
    "prompt = \"Once upon a time\"\n",
    "generated_text = learn.predict(prompt, n_words=100, temperature=0.7)\n",
    "print(generated_text)"
   ]
  },
  {
   "cell_type": "code",
   "execution_count": null,
   "metadata": {
    "colab": {
     "base_uri": "https://localhost:8080/",
     "height": 472
    },
    "id": "QkDWfV6KBGOk",
    "outputId": "7492d40f-5e4e-4639-df88-598f32a8d032"
   },
   "outputs": [],
   "source": [
    "# Step 7: EDA and Visualization\n",
    "# Get the lengths of generated text samples\n",
    "generated_lengths = [len(text.split()) for text in generated_text.split('\\n')]\n",
    "\n",
    "# Plot the distribution of generated text lengths\n",
    "plt.hist(generated_lengths, bins=20, edgecolor='black')\n",
    "plt.xlabel('Generated Text Length')\n",
    "plt.ylabel('Frequency')\n",
    "plt.title('Distribution of Generated Text Lengths')\n",
    "plt.show()"
   ]
  },
  {
   "cell_type": "code",
   "execution_count": null,
   "metadata": {
    "colab": {
     "base_uri": "https://localhost:8080/",
     "height": 444
    },
    "id": "rFM2vORFCxmE",
    "outputId": "aacd6640-c055-4140-c54d-1f53eead9b1d"
   },
   "outputs": [],
   "source": [
    "# Create a word cloud from the generated text\n",
    "wordcloud = WordCloud(width=800, height=400, background_color='white').generate(generated_text)\n",
    "plt.figure(figsize=(10, 5))\n",
    "plt.imshow(wordcloud, interpolation='bilinear')\n",
    "plt.axis('off')\n",
    "plt.title('Word Cloud of Generated Text')\n",
    "plt.show()"
   ]
  },
  {
   "cell_type": "markdown",
   "metadata": {
    "id": "2zSN11xJEaN_"
   },
   "source": [
    "## Conclusion\n",
    "\n",
    "In this project, we successfully fetched movie overviews from the TMDB API, performed exploratory data analysis (EDA), and built a language model to generate movie overviews. The WordCloud visualization provided insights into the most common words used in the overviews. This project showcases the potential of language models in generating creative text based on existing data."
   ]
  },
  {
   "cell_type": "code",
   "execution_count": null,
   "metadata": {},
   "outputs": [],
   "source": []
  }
 ],
 "metadata": {
  "colab": {
   "provenance": []
  },
  "kernelspec": {
   "display_name": "Python 3 (ipykernel)",
   "language": "python",
   "name": "python3"
  },
  "language_info": {
   "codemirror_mode": {
    "name": "ipython",
    "version": 3
   },
   "file_extension": ".py",
   "mimetype": "text/x-python",
   "name": "python",
   "nbconvert_exporter": "python",
   "pygments_lexer": "ipython3",
   "version": "3.11.5"
  }
 },
 "nbformat": 4,
 "nbformat_minor": 1
}
